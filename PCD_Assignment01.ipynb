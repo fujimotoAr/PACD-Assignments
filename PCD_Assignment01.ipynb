{
  "cells": [
    {
      "cell_type": "markdown",
      "metadata": {
        "id": "JFOmwUtkUwXv"
      },
      "source": [
        "Theofilus Arkhi Susanto\n",
        "(theofilus.arkhi@mail.ugm.ac.id)\n",
        "25/555265/PPA/07030"
      ]
    },
    {
      "cell_type": "code",
      "execution_count": 1,
      "metadata": {},
      "outputs": [
        {
          "name": "stdout",
          "output_type": "stream",
          "text": [
            "Requirement already satisfied: numpy in ./.venv/lib/python3.13/site-packages (2.2.6)\n",
            "Requirement already satisfied: opencv-python in ./.venv/lib/python3.13/site-packages (4.12.0.88)\n",
            "Requirement already satisfied: matplotlib in ./.venv/lib/python3.13/site-packages (3.10.6)\n",
            "Requirement already satisfied: contourpy>=1.0.1 in ./.venv/lib/python3.13/site-packages (from matplotlib) (1.3.3)\n",
            "Requirement already satisfied: cycler>=0.10 in ./.venv/lib/python3.13/site-packages (from matplotlib) (0.12.1)\n",
            "Requirement already satisfied: fonttools>=4.22.0 in ./.venv/lib/python3.13/site-packages (from matplotlib) (4.59.2)\n",
            "Requirement already satisfied: kiwisolver>=1.3.1 in ./.venv/lib/python3.13/site-packages (from matplotlib) (1.4.9)\n",
            "Requirement already satisfied: packaging>=20.0 in ./.venv/lib/python3.13/site-packages (from matplotlib) (25.0)\n",
            "Requirement already satisfied: pillow>=8 in ./.venv/lib/python3.13/site-packages (from matplotlib) (11.0.0)\n",
            "Requirement already satisfied: pyparsing>=2.3.1 in ./.venv/lib/python3.13/site-packages (from matplotlib) (3.2.3)\n",
            "Requirement already satisfied: python-dateutil>=2.7 in ./.venv/lib/python3.13/site-packages (from matplotlib) (2.9.0.post0)\n",
            "Requirement already satisfied: six>=1.5 in ./.venv/lib/python3.13/site-packages (from python-dateutil>=2.7->matplotlib) (1.17.0)\n",
            "Note: you may need to restart the kernel to use updated packages.\n"
          ]
        }
      ],
      "source": [
        "%pip install numpy opencv-python matplotlib"
      ]
    },
    {
      "cell_type": "code",
      "execution_count": 2,
      "metadata": {
        "id": "3b-kxIsNCH0R"
      },
      "outputs": [],
      "source": [
        "import numpy as np, cv2, matplotlib.pyplot as plt"
      ]
    },
    {
      "cell_type": "code",
      "execution_count": 3,
      "metadata": {},
      "outputs": [],
      "source": [
        "image = cv2.imread(\"image-assignment-1/img_83.jpg\")\n",
        "image = cv2.cvtColor(image, cv2.COLOR_BGR2GRAY)"
      ]
    },
    {
      "cell_type": "code",
      "execution_count": 4,
      "metadata": {},
      "outputs": [
        {
          "data": {
            "text/plain": [
              "<matplotlib.image.AxesImage at 0x768287c5eba0>"
            ]
          },
          "execution_count": 4,
          "metadata": {},
          "output_type": "execute_result"
        },
        {
          "data": {
            "image/png": "[encoded data removed]",
            "text/plain": [
              "<Figure size 640x480 with 1 Axes>"
            ]
          },
          "metadata": {},
          "output_type": "display_data"
        }
      ],
      "source": [
        "plt.imshow(image)"
      ]
    },
    {
      "cell_type": "markdown",
      "metadata": {},
      "source": [
        "Downsampling"
      ]
    },
    {
      "cell_type": "code",
      "execution_count": 5,
      "metadata": {
        "id": "kisJKKbvDVxN"
      },
      "outputs": [],
      "source": [
        "# Downsampling\n",
        "\n",
        "pool_size = 2\n",
        "\n",
        "def max_element(matrix, start_y, start_x, pool_size):\n",
        "  cur_max = -999999999999\n",
        "  for i in range(start_y, start_y+pool_size):\n",
        "    for j in range(start_x, start_x+pool_size):\n",
        "      cur_max = max(cur_max, matrix[i][j])\n",
        "  return cur_max\n",
        "\n",
        "def mean_element(matrix, start_y, start_x, pool_size):\n",
        "  cur_mean = 0\n",
        "  for i in range(start_y, start_y+pool_size):\n",
        "    for j in range(start_x, start_x+pool_size):\n",
        "      cur_mean += matrix[i][j]\n",
        "      cur_mean/=2\n",
        "  return cur_mean\n",
        "\n",
        "def median_element(matrix, start_y, start_x, pool_size):\n",
        "  new_list = []\n",
        "  for i in range(start_y, start_y+pool_size):\n",
        "    for j in range(start_x, start_x+pool_size):\n",
        "      new_list.append(matrix[i][j])\n",
        "  new_list = sorted(new_list)\n",
        "  return new_list[(len(new_list)-1)//2]\n",
        "\n",
        "def max_downsampling(matrix, scale=2):\n",
        "  new_height = len(matrix) //scale\n",
        "  new_width = len(matrix[0]) //scale\n",
        "  new_list = np.zeros((new_height, new_width), dtype=int)\n",
        "  old_i=0\n",
        "  old_j=0\n",
        "  for i in range(0, new_height):\n",
        "    for j in range(0, new_width):\n",
        "      \n",
        "      try:\n",
        "        new_val = max_element(matrix, old_i, old_j, pool_size)\n",
        "        new_list[i][j]=(new_val)\n",
        "        old_j+=scale\n",
        "        if old_j>=len(matrix)-1:\n",
        "          old_j=0\n",
        "          old_i+=scale\n",
        "      except:\n",
        "        pass\n",
        "\n",
        "  return new_list\n",
        "\n",
        "def mean_downsampling(matrix, scale=2):\n",
        "  new_height = len(matrix) //scale\n",
        "  new_width = len(matrix[0]) //scale\n",
        "  new_list = np.zeros((new_height, new_width), dtype=int)\n",
        "  old_i=0\n",
        "  old_j=0\n",
        "  for i in range(0, new_height):\n",
        "    for j in range(0, new_width):\n",
        "      \n",
        "      try:\n",
        "        new_val = mean_element(matrix, old_i, old_j, pool_size)\n",
        "        new_list[i][j]=(new_val)\n",
        "        old_j+=scale\n",
        "        if old_j>=len(matrix)-1:\n",
        "          old_j=0\n",
        "          old_i+=scale\n",
        "      except:\n",
        "        pass\n",
        "\n",
        "  return new_list\n",
        "\n",
        "def median_downsampling(matrix, scale=2):\n",
        "  new_height = len(matrix) //scale\n",
        "  new_width = len(matrix[0]) //scale\n",
        "  new_list = np.zeros((new_height, new_width), dtype=int)\n",
        "  old_i=0\n",
        "  old_j=0\n",
        "  for i in range(0, new_height):\n",
        "    for j in range(0, new_width):\n",
        "      \n",
        "      try:\n",
        "        new_val = median_element(matrix, old_i, old_j, pool_size)\n",
        "        new_list[i][j]=(new_val)\n",
        "        old_j+=scale\n",
        "        if old_j>=len(matrix)-1:\n",
        "          old_j=0\n",
        "          old_i+=scale\n",
        "      except:\n",
        "        pass\n",
        "\n",
        "  return new_list"
      ]
    },
    {
      "cell_type": "code",
      "execution_count": 6,
      "metadata": {},
      "outputs": [],
      "source": [
        "# image.shape"
      ]
    },
    {
      "cell_type": "code",
      "execution_count": 7,
      "metadata": {},
      "outputs": [
        {
          "data": {
            "text/plain": [
              "<matplotlib.image.AxesImage at 0x768285987250>"
            ]
          },
          "execution_count": 7,
          "metadata": {},
          "output_type": "execute_result"
        },
        {
          "data": {
            "image/png": "[encoded data removed]",
            "text/plain": [
              "<Figure size 640x480 with 1 Axes>"
            ]
          },
          "metadata": {},
          "output_type": "display_data"
        }
      ],
      "source": [
        "plt.imshow(mean_downsampling(image))"
      ]
    },
    {
      "cell_type": "code",
      "execution_count": 8,
      "metadata": {
        "colab": {
          "base_uri": "https://localhost:8080/"
        },
        "id": "J8zvoWAoGOGB",
        "outputId": "41ba4872-2034-42ce-d0f6-97dc6aabec17"
      },
      "outputs": [
        {
          "data": {
            "text/plain": [
              "<matplotlib.image.AxesImage at 0x7682859eed50>"
            ]
          },
          "execution_count": 8,
          "metadata": {},
          "output_type": "execute_result"
        },
        {
          "data": {
            "image/png": "[encoded data removed]",
            "text/plain": [
              "<Figure size 640x480 with 1 Axes>"
            ]
          },
          "metadata": {},
          "output_type": "display_data"
        }
      ],
      "source": [
        "plt.imshow(max_downsampling(image,3))"
      ]
    },
    {
      "cell_type": "code",
      "execution_count": 9,
      "metadata": {
        "colab": {
          "base_uri": "https://localhost:8080/"
        },
        "id": "RmkBzxl-GQW4",
        "outputId": "f9516296-a1e0-4aa8-e615-c7de5112e839"
      },
      "outputs": [
        {
          "data": {
            "text/plain": [
              "<matplotlib.image.AxesImage at 0x768287b49a90>"
            ]
          },
          "execution_count": 9,
          "metadata": {},
          "output_type": "execute_result"
        },
        {
          "data": {
            "image/png": "[encoded data removed]",
            "text/plain": [
              "<Figure size 640x480 with 1 Axes>"
            ]
          },
          "metadata": {},
          "output_type": "display_data"
        }
      ],
      "source": [
        "plt.imshow(median_downsampling(image))"
      ]
    },
    {
      "cell_type": "markdown",
      "metadata": {},
      "source": [
        "Upsampling"
      ]
    },
    {
      "cell_type": "code",
      "execution_count": 10,
      "metadata": {},
      "outputs": [],
      "source": [
        "# The upsampling process is done to the right and down of the current pixel\n",
        "\n",
        "# [1, 2, 3]\n",
        "# [4, 5, 6]\n",
        "# [7, 8, 9]\n",
        "\n",
        "# Becomes\n",
        "\n",
        "# [1, N, 2, N, 3, N]\n",
        "# [N, N, N, N, N, N]\n",
        "# [4, N, 5, N, 6, N]\n",
        "# [N, N, N, N, N, N]\n",
        "# [7, N, 8, N, 9, N]\n",
        "# [N, N, N, N, N, N]\n",
        "\n",
        "# Where N is the new pixels location"
      ]
    },
    {
      "cell_type": "markdown",
      "metadata": {
        "id": "K_1BsXzRVSVD"
      },
      "source": [
        "Nearest neighbor"
      ]
    },
    {
      "cell_type": "code",
      "execution_count": 11,
      "metadata": {
        "id": "oTDd8YvTkPoI"
      },
      "outputs": [],
      "source": [
        "from collections import deque\n",
        "class nearest_neighbor:\n",
        "\n",
        "  def __init__ (self,  matrix):\n",
        "    self.visited = [[False]*len(matrix[0]) for i in range(len(matrix))]\n",
        "    self.lines = [[] for i in range(len(matrix)*len(matrix[0]))]\n",
        "    self.matrix = matrix\n",
        "    self.upsample_matrix = self.generate_upsample_matrix()\n",
        "\n",
        "  def min_bfs(self, matrix, y, x, dist = 0):\n",
        "    q=deque()\n",
        "    q.append((y,x,dist))\n",
        "    while len(q)!=0:\n",
        "      y, x, dist= q.popleft()\n",
        "      if(y>=len(matrix) or x >=len(matrix[0])):\n",
        "        continue\n",
        "      if(y<0 or x<0):\n",
        "        continue\n",
        "\n",
        "      if matrix[y][x] != -1:\n",
        "        self.lines[dist].append(matrix[y][x])\n",
        "\n",
        "      delta_y = [0, 1, 0, -1]\n",
        "      delta_x = [1, 0, -1, 0]\n",
        "\n",
        "      for i, _ in enumerate(delta_y):\n",
        "        new_y = y+delta_y[i]\n",
        "        new_x = x+delta_x[i]\n",
        "        if self.visited[new_y][new_x] == False:\n",
        "          self.visited[new_y][new_x]=True\n",
        "          q.append((new_y,new_x,dist+1))\n",
        "\n",
        "  def nearest_neighbor_min(self):\n",
        "    new_matrix=np.copy(self.upsample_matrix)\n",
        "    for i, item_i in enumerate(new_matrix):\n",
        "      for j, item_j in enumerate(item_i):\n",
        "        if item_j == -1:\n",
        "          minimum_val = 999999999999\n",
        "          self.visited = [[False]*(len(new_matrix[0])+1) for i in range(len(new_matrix)+1)]\n",
        "          self.lines = [[] for i in range(len(new_matrix)*len(new_matrix[0]))]\n",
        "          self.min_bfs(self.upsample_matrix, i, j)\n",
        "          for ii in self.lines:\n",
        "            for jj in ii:\n",
        "              minimum_val = min(minimum_val, jj)\n",
        "            if(len(ii)>0):\n",
        "              break\n",
        "          new_matrix[i][j]=float(minimum_val)\n",
        "          # print(i,j, minimum_val)\n",
        "    return new_matrix\n",
        "\n",
        "  def generate_upsample_matrix(self):\n",
        "    new_matrix_height = len(self.matrix)*2\n",
        "    new_matrix_width = len(self.matrix[0])*2\n",
        "\n",
        "    new_matrix = [[-1]*new_matrix_width for i in range(new_matrix_height)]\n",
        "    idx_i_new=0\n",
        "    for i in range(len(self.matrix)):\n",
        "      idx_j_new=0\n",
        "      for j, item_j in enumerate(self.matrix[i]):\n",
        "        new_matrix[idx_i_new][idx_j_new]=float(item_j)\n",
        "        idx_j_new+=2\n",
        "      idx_i_new+=2\n",
        "\n",
        "    return new_matrix\n",
        "\n"
      ]
    },
    {
      "cell_type": "code",
      "execution_count": 12,
      "metadata": {
        "id": "o7ek6HdAJWUK"
      },
      "outputs": [],
      "source": [
        "graph = nearest_neighbor(image)"
      ]
    },
    {
      "cell_type": "code",
      "execution_count": 13,
      "metadata": {
        "colab": {
          "base_uri": "https://localhost:8080/"
        },
        "id": "FuDnUPh-Jg0j",
        "outputId": "c850c85f-4d6e-4eee-f391-d8880c0eb7e6"
      },
      "outputs": [],
      "source": [
        "nearest_neighbor_img = graph.nearest_neighbor_min()"
      ]
    },
    {
      "cell_type": "code",
      "execution_count": 14,
      "metadata": {},
      "outputs": [
        {
          "data": {
            "text/plain": [
              "(56, 56)"
            ]
          },
          "execution_count": 14,
          "metadata": {},
          "output_type": "execute_result"
        }
      ],
      "source": [
        "nearest_neighbor_img.shape"
      ]
    },
    {
      "cell_type": "code",
      "execution_count": 15,
      "metadata": {},
      "outputs": [
        {
          "data": {
            "text/plain": [
              "<matplotlib.image.AxesImage at 0x76828586c7d0>"
            ]
          },
          "execution_count": 15,
          "metadata": {},
          "output_type": "execute_result"
        },
        {
          "data": {
            "image/png": "[encoded data removed]",
            "text/plain": [
              "<Figure size 640x480 with 1 Axes>"
            ]
          },
          "metadata": {},
          "output_type": "display_data"
        }
      ],
      "source": [
        "plt.imshow(nearest_neighbor_img)"
      ]
    },
    {
      "cell_type": "markdown",
      "metadata": {
        "id": "bhE6Gith_bpr"
      },
      "source": [
        "Bilinear"
      ]
    },
    {
      "cell_type": "code",
      "execution_count": 16,
      "metadata": {
        "id": "5IUzPwdirZNe"
      },
      "outputs": [],
      "source": [
        "from collections import deque\n",
        "class bilinear:\n",
        "\n",
        "  def __init__ (self,  matrix):\n",
        "    self.visited = [[False]*len(matrix[0]) for i in range(len(matrix))]\n",
        "    self.lines = [[] for i in range(len(matrix)*len(matrix[0]))]\n",
        "    self.matrix = matrix\n",
        "    self.upsample_matrix = self.generate_upsample_matrix()\n",
        "\n",
        "  def bilinear_bfs(self, matrix, y, x, dist = 0):\n",
        "    q=deque()\n",
        "    q.append((y,x,dist))\n",
        "    while len(q)!=0:\n",
        "      y, x, dist= q.popleft()\n",
        "      if(y>=len(matrix) or x >=len(matrix[0])):\n",
        "        continue\n",
        "      if(y<0 or x<0):\n",
        "        continue\n",
        "\n",
        "      if matrix[y][x] != -1:\n",
        "        self.lines[dist].append(matrix[y][x])\n",
        "\n",
        "      delta_y = [0, 1, 0, -1]\n",
        "      delta_x = [1, 0, -1, 0]\n",
        "\n",
        "      for i, _ in enumerate(delta_y):\n",
        "        new_y = y+delta_y[i]\n",
        "        new_x = x+delta_x[i]\n",
        "        if self.visited[new_y][new_x] == False:\n",
        "          self.visited[new_y][new_x]=True\n",
        "          q.append((new_y,new_x,dist+1))\n",
        "\n",
        "  def nearest_neighbor_bilinear(self):\n",
        "    new_matrix=np.copy(self.upsample_matrix)\n",
        "    for i, item_i in enumerate(new_matrix):\n",
        "      for j, item_j in enumerate(item_i):\n",
        "        if item_j == -1:\n",
        "          sum = 0\n",
        "          self.visited = [[False]*(len(new_matrix[0])+1) for i in range(len(new_matrix)+1)]\n",
        "          self.lines = [[] for i in range(len(new_matrix)*len(new_matrix[0]))]\n",
        "          self.bilinear_bfs(self.upsample_matrix, i, j)\n",
        "          for ii in self.lines:\n",
        "            for jj in ii:\n",
        "              sum += jj\n",
        "              sum/=2\n",
        "            if(len(ii)>0):\n",
        "              break\n",
        "          new_matrix[i][j]=sum\n",
        "    return new_matrix\n",
        "\n",
        "  def generate_upsample_matrix(self):\n",
        "    new_matrix_height = len(self.matrix)*2\n",
        "    new_matrix_width = len(self.matrix[0])*2\n",
        "\n",
        "    new_matrix = [[-1]*new_matrix_width for i in range(new_matrix_height)]\n",
        "\n",
        "    idx_i_new=0\n",
        "    for i in range(len(self.matrix)):\n",
        "      idx_j_new=0\n",
        "      for j, item_j in enumerate(self.matrix[i]):\n",
        "        new_matrix[idx_i_new][idx_j_new]=(item_j)\n",
        "        idx_j_new+=2\n",
        "      idx_i_new+=2\n",
        "\n",
        "    return new_matrix\n",
        "\n"
      ]
    },
    {
      "cell_type": "code",
      "execution_count": 17,
      "metadata": {
        "id": "4-cxdILDS3Ov"
      },
      "outputs": [],
      "source": [
        "bl = bilinear(image)"
      ]
    },
    {
      "cell_type": "code",
      "execution_count": 18,
      "metadata": {
        "colab": {
          "base_uri": "https://localhost:8080/"
        },
        "id": "0o5FWKqFS-EH",
        "outputId": "4d4d8270-8d59-420c-c59a-bca3fb529d97"
      },
      "outputs": [
        {
          "data": {
            "text/plain": [
              "<matplotlib.image.AxesImage at 0x76828571a5d0>"
            ]
          },
          "execution_count": 18,
          "metadata": {},
          "output_type": "execute_result"
        },
        {
          "data": {
            "image/png": "[encoded data removed]",
            "text/plain": [
              "<Figure size 640x480 with 1 Axes>"
            ]
          },
          "metadata": {},
          "output_type": "display_data"
        }
      ],
      "source": [
        "plt.imshow(bl.nearest_neighbor_bilinear())"
      ]
    },
    {
      "cell_type": "markdown",
      "metadata": {
        "id": "ufQpZGW6VP9d"
      },
      "source": [
        "Bicubic"
      ]
    },
    {
      "cell_type": "code",
      "execution_count": 19,
      "metadata": {
        "id": "PpMeFBAPTCcR"
      },
      "outputs": [],
      "source": [
        "from collections import deque\n",
        "class Bicubic:\n",
        "\n",
        "  def __init__ (self,  matrix):\n",
        "    self.visited = [[False]*len(matrix[0]) for i in range(len(matrix))]\n",
        "    self.lines = [[] for i in range(len(matrix)*len(matrix[0]))]\n",
        "    self.matrix = matrix\n",
        "    self.upsample_matrix = self.generate_upsample_matrix()\n",
        "\n",
        "  def bicubic_bfs(self, matrix, y, x, dist = 0):\n",
        "    q=deque()\n",
        "    q.append((y,x,dist))\n",
        "    while len(q)!=0:\n",
        "      y, x, dist= q.popleft()\n",
        "      if(y>=len(matrix) or x >=len(matrix[0])):\n",
        "        continue\n",
        "      if(y<0 or x<0):\n",
        "        continue\n",
        "\n",
        "      if matrix[y][x] != -1:\n",
        "        self.lines[dist].append(matrix[y][x])\n",
        "\n",
        "      delta_y = [0, 1, 0, -1]\n",
        "      delta_x = [1, 0, -1, 0]\n",
        "\n",
        "      for i, _ in enumerate(delta_y):\n",
        "        new_y = y+delta_y[i]\n",
        "        new_x = x+delta_x[i]\n",
        "        if self.visited[new_y][new_x] == False:\n",
        "          self.visited[new_y][new_x]=True\n",
        "          q.append((new_y,new_x,dist+1))\n",
        "\n",
        "  def nearest_neighbor_bicubic(self):\n",
        "    new_matrix=np.copy(self.upsample_matrix)\n",
        "    for i, item_i in enumerate(new_matrix):\n",
        "      for j, item_j in enumerate(item_i):\n",
        "        if item_j == -1:\n",
        "          sum = 0\n",
        "          self.visited = [[False]*(len(new_matrix[0])+1) for i in range(len(new_matrix)+1)]\n",
        "          self.lines = [[] for i in range(len(new_matrix)*len(new_matrix[0]))]\n",
        "          self.bicubic_bfs(self.upsample_matrix, i, j)\n",
        "          counter=0\n",
        "          for ii in self.lines:\n",
        "            for jj in ii:\n",
        "              sum += jj\n",
        "              sum/=2\n",
        "            if(len(ii)>0):\n",
        "              counter+=1\n",
        "            if counter==2:\n",
        "              break\n",
        "          new_matrix[i][j]=sum\n",
        "    return new_matrix\n",
        "\n",
        "  def generate_upsample_matrix(self):\n",
        "    new_matrix_height = len(self.matrix)*2\n",
        "    new_matrix_width = len(self.matrix[0])*2\n",
        "\n",
        "    new_matrix = [[-1]*new_matrix_width for i in range(new_matrix_height)]\n",
        "\n",
        "    idx_i_new=0\n",
        "    for i in range(len(self.matrix)):\n",
        "      idx_j_new=0\n",
        "      for j, item_j in enumerate(self.matrix[i]):\n",
        "        new_matrix[idx_i_new][idx_j_new]=(item_j)\n",
        "        idx_j_new+=2\n",
        "      idx_i_new+=2\n",
        "\n",
        "    return new_matrix\n",
        "\n"
      ]
    },
    {
      "cell_type": "code",
      "execution_count": 20,
      "metadata": {
        "id": "NM1m97FPUi9C"
      },
      "outputs": [],
      "source": [
        "bc = Bicubic(image)"
      ]
    },
    {
      "cell_type": "code",
      "execution_count": 21,
      "metadata": {
        "colab": {
          "base_uri": "https://localhost:8080/"
        },
        "id": "D5Y1SKI4UnAG",
        "outputId": "4a0788a0-88d7-47a6-b46a-c7f9e2d89142"
      },
      "outputs": [
        {
          "data": {
            "text/plain": [
              "<matplotlib.image.AxesImage at 0x7682857e4410>"
            ]
          },
          "execution_count": 21,
          "metadata": {},
          "output_type": "execute_result"
        },
        {
          "data": {
            "image/png": "[encoded data removed]",
            "text/plain": [
              "<Figure size 640x480 with 1 Axes>"
            ]
          },
          "metadata": {},
          "output_type": "display_data"
        }
      ],
      "source": [
        "plt.imshow(bc.nearest_neighbor_bicubic())"
      ]
    },
    {
      "cell_type": "code",
      "execution_count": null,
      "metadata": {},
      "outputs": [],
      "source": []
    }
  ],
  "metadata": {
    "colab": {
      "provenance": []
    },
    "kernelspec": {
      "display_name": ".venv",
      "language": "python",
      "name": "python3"
    },
    "language_info": {
      "codemirror_mode": {
        "name": "ipython",
        "version": 3
      },
      "file_extension": ".py",
      "mimetype": "text/x-python",
      "name": "python",
      "nbconvert_exporter": "python",
      "pygments_lexer": "ipython3",
      "version": "3.13.3"
    }
  },
  "nbformat": 4,
  "nbformat_minor": 0
}
