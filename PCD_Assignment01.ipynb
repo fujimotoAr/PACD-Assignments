{
  "cells": [
    {
      "cell_type": "markdown",
      "metadata": {
        "id": "JFOmwUtkUwXv"
      },
      "source": [
        "Theofilus Arkhi Susanto\n",
        "(theofilus.arkhi@mail.ugm.ac.id)\n",
        "25/555265/PPA/07030"
      ]
    },
    {
      "cell_type": "code",
      "execution_count": 1,
      "metadata": {
        "id": "3b-kxIsNCH0R"
      },
      "outputs": [],
      "source": [
        "import numpy as np"
      ]
    },
    {
      "cell_type": "code",
      "execution_count": 2,
      "metadata": {
        "id": "xW_yn4KfCX3y"
      },
      "outputs": [],
      "source": [
        "matrix = [\n",
        "    [1, 2, 3, 4],\n",
        "    [5, 6, 7, 8],\n",
        "    [9, 0, 1 ,2],\n",
        "    [3, 4 ,5 ,6]\n",
        "]"
      ]
    },
    {
      "cell_type": "code",
      "execution_count": 3,
      "metadata": {
        "id": "kisJKKbvDVxN"
      },
      "outputs": [],
      "source": [
        "# Downsampling\n",
        "\n",
        "pool_size = 2\n",
        "\n",
        "def max_element(matrix, start_y, start_x, pool_size):\n",
        "  cur_max = -999999999999\n",
        "  for i in range(start_y, start_y+pool_size):\n",
        "    for j in range(start_x, start_x+pool_size):\n",
        "      cur_max = max(cur_max, matrix[i][j])\n",
        "  return cur_max\n",
        "\n",
        "def mean_element(matrix, start_y, start_x, pool_size):\n",
        "  cur_mean = 0\n",
        "  divisor = 0\n",
        "  for i in range(start_y, start_y+pool_size):\n",
        "    for j in range(start_x, start_x+pool_size):\n",
        "      cur_mean += matrix[i][j]\n",
        "      divisor += 1\n",
        "  return cur_mean/max(1,divisor)\n",
        "\n",
        "def median_element(matrix, start_y, start_x, pool_size):\n",
        "  median = None\n",
        "  new_list = []\n",
        "  for i in range(start_y, start_y+pool_size):\n",
        "    for j in range(start_x, start_x+pool_size):\n",
        "      new_list.append(matrix[i][j])\n",
        "  new_list = sorted(new_list)\n",
        "  return new_list[(len(new_list)-1)//2]\n",
        "\n",
        "def max_downsampling(matrix):\n",
        "  new_height = len(matrix) - 1\n",
        "  new_width = len(matrix[0]) - 1\n",
        "  new_list = np.zeros((new_height, new_width), dtype=int)\n",
        "  for i in range(0, len(matrix)):\n",
        "    for j in range(0, len(matrix)):\n",
        "      try:\n",
        "        new_val = max_element(matrix, i, j, pool_size)\n",
        "        new_list[i][j]=(new_val)\n",
        "      except:\n",
        "        pass\n",
        "\n",
        "  return new_list\n",
        "\n",
        "def mean_downsampling(matrix):\n",
        "  new_height = len(matrix) - 1\n",
        "  new_width = len(matrix[0]) - 1\n",
        "  new_list = np.zeros((new_height, new_width), dtype=int)\n",
        "  for i in range(0, len(matrix)):\n",
        "    for j in range(0, len(matrix)):\n",
        "      try:\n",
        "        new_val = mean_element(matrix, i, j, pool_size)\n",
        "        new_list[i][j]=(new_val)\n",
        "      except:\n",
        "        pass\n",
        "\n",
        "  return new_list\n",
        "\n",
        "def median_downsampling(matrix):\n",
        "  new_height = len(matrix) - 1\n",
        "  new_width = len(matrix[0]) - 1\n",
        "  new_list = np.zeros((new_height, new_width), dtype=int)\n",
        "  for i in range(0, len(matrix)):\n",
        "    for j in range(0, len(matrix)):\n",
        "      try:\n",
        "        new_val = median_element(matrix, i, j, pool_size)\n",
        "        new_list[i][j]=(new_val)\n",
        "      except:\n",
        "        pass\n",
        "\n",
        "  return new_list"
      ]
    },
    {
      "cell_type": "code",
      "execution_count": 4,
      "metadata": {
        "colab": {
          "base_uri": "https://localhost:8080/"
        },
        "id": "J8zvoWAoGOGB",
        "outputId": "41ba4872-2034-42ce-d0f6-97dc6aabec17"
      },
      "outputs": [
        {
          "data": {
            "text/plain": [
              "array([[6, 7, 8],\n",
              "       [9, 7, 8],\n",
              "       [9, 5, 6]])"
            ]
          },
          "execution_count": 4,
          "metadata": {},
          "output_type": "execute_result"
        }
      ],
      "source": [
        "max_downsampling(matrix)"
      ]
    },
    {
      "cell_type": "code",
      "execution_count": 5,
      "metadata": {
        "colab": {
          "base_uri": "https://localhost:8080/"
        },
        "id": "RmkBzxl-GQW4",
        "outputId": "f9516296-a1e0-4aa8-e615-c7de5112e839"
      },
      "outputs": [
        {
          "data": {
            "text/plain": [
              "array([[3, 4, 5],\n",
              "       [5, 3, 4],\n",
              "       [4, 2, 3]])"
            ]
          },
          "execution_count": 5,
          "metadata": {},
          "output_type": "execute_result"
        }
      ],
      "source": [
        "mean_downsampling(matrix)"
      ]
    },
    {
      "cell_type": "code",
      "execution_count": 6,
      "metadata": {
        "colab": {
          "base_uri": "https://localhost:8080/"
        },
        "id": "xt5PTDidOig5",
        "outputId": "3c8f0fa7-8ebc-48fb-e499-e7bdccc7a1a0"
      },
      "outputs": [
        {
          "data": {
            "text/plain": [
              "array([[2, 3, 4],\n",
              "       [5, 1, 2],\n",
              "       [3, 1, 2]])"
            ]
          },
          "execution_count": 6,
          "metadata": {},
          "output_type": "execute_result"
        }
      ],
      "source": [
        "median_downsampling(matrix)"
      ]
    },
    {
      "cell_type": "markdown",
      "metadata": {
        "id": "K_1BsXzRVSVD"
      },
      "source": [
        "Nearest neighbor"
      ]
    },
    {
      "cell_type": "code",
      "execution_count": 37,
      "metadata": {
        "id": "oTDd8YvTkPoI"
      },
      "outputs": [],
      "source": [
        "from collections import deque\n",
        "class nearest_neighbor:\n",
        "\n",
        "  def __init__ (self,  matrix):\n",
        "    self.visited = [[False]*100 for i in range(100)]\n",
        "    self.lines = [[] for i in range(100)]\n",
        "    self.matrix = matrix\n",
        "    self.upsample_matrix = self.generate_upsample_matrix()\n",
        "\n",
        "  def min_bfs(self, matrix, y, x, dist = 0):\n",
        "    q=deque()\n",
        "    q.append((y,x,dist))\n",
        "    while len(q)!=0:\n",
        "      self.visited[y][x]=True\n",
        "      y, x, dist= q.popleft()\n",
        "      if(y>=len(matrix) or x >=len(matrix[0])):\n",
        "        continue\n",
        "      if(y<0 or x<0):\n",
        "        continue\n",
        "\n",
        "      if matrix[y][x] != None:\n",
        "        self.lines[dist].append(matrix[y][x])\n",
        "\n",
        "      delta_y = [0, 1, 0, -1]\n",
        "      delta_x = [1, 0, -1, 0]\n",
        "\n",
        "      for i, _ in enumerate(delta_y):\n",
        "        new_y = y+delta_y[i]\n",
        "        new_x = x+delta_x[i]\n",
        "        if self.visited[new_y][new_x] == False:\n",
        "          q.append((new_y,new_x,dist+1))\n",
        "\n",
        "  def nearest_neighbor_min(self):\n",
        "    new_matrix=np.copy(self.upsample_matrix)\n",
        "    for i, item_i in enumerate(new_matrix):\n",
        "      for j, item_j in enumerate(item_i):\n",
        "        if item_j == None:\n",
        "          minimum_val = 999999999999\n",
        "          self.visited = [[False]*100 for i in range(100)]\n",
        "          self.lines = [[] for i in range(100)]\n",
        "          self.min_bfs(self.upsample_matrix, i, j)\n",
        "          for ii in self.lines:\n",
        "            for jj in ii:\n",
        "              minimum_val = min(minimum_val, jj)\n",
        "            if(len(ii)>0):\n",
        "              break\n",
        "          new_matrix[i][j]=minimum_val\n",
        "    return new_matrix\n",
        "\n",
        "  def generate_upsample_matrix(self):\n",
        "    new_matrix_height = len(self.matrix)*2-1\n",
        "    new_matrix_width = len(self.matrix[0])*2-1\n",
        "\n",
        "    new_matrix = [[None]*new_matrix_width for i in range(new_matrix_height)]\n",
        "\n",
        "    idx_i_new=0\n",
        "    for i in range(len(self.matrix)):\n",
        "      idx_j_new=0\n",
        "      for j, item_j in enumerate(self.matrix[i]):\n",
        "        new_matrix[idx_i_new][idx_j_new]=(item_j)\n",
        "        idx_j_new+=2\n",
        "      idx_i_new+=2\n",
        "\n",
        "    return new_matrix\n",
        "\n"
      ]
    },
    {
      "cell_type": "code",
      "execution_count": 39,
      "metadata": {
        "id": "o7ek6HdAJWUK"
      },
      "outputs": [],
      "source": [
        "graph = nearest_neighbor(matrix)"
      ]
    },
    {
      "cell_type": "code",
      "execution_count": 40,
      "metadata": {
        "colab": {
          "base_uri": "https://localhost:8080/"
        },
        "id": "IplLQRePMIp0",
        "outputId": "8e45b158-b228-4043-913b-6ae7631b673f"
      },
      "outputs": [
        {
          "data": {
            "text/plain": [
              "array([[1, 2, 3, 4],\n",
              "       [5, 6, 7, 8],\n",
              "       [9, 0, 1, 2],\n",
              "       [3, 4, 5, 6]])"
            ]
          },
          "execution_count": 40,
          "metadata": {},
          "output_type": "execute_result"
        }
      ],
      "source": [
        "np.array(graph.matrix)"
      ]
    },
    {
      "cell_type": "code",
      "execution_count": 42,
      "metadata": {
        "colab": {
          "base_uri": "https://localhost:8080/"
        },
        "id": "xmt2tVBPMNuU",
        "outputId": "66f19229-ebf7-4c9c-ed46-c322134af34f"
      },
      "outputs": [
        {
          "data": {
            "text/plain": [
              "array([[1, None, 2, None, 3, None, 4],\n",
              "       [None, None, None, None, None, None, None],\n",
              "       [5, None, 6, None, 7, None, 8],\n",
              "       [None, None, None, None, None, None, None],\n",
              "       [9, None, 0, None, 1, None, 2],\n",
              "       [None, None, None, None, None, None, None],\n",
              "       [3, None, 4, None, 5, None, 6]], dtype=object)"
            ]
          },
          "execution_count": 42,
          "metadata": {},
          "output_type": "execute_result"
        }
      ],
      "source": [
        "np.array(graph.generate_upsample_matrix())"
      ]
    },
    {
      "cell_type": "code",
      "execution_count": 43,
      "metadata": {
        "colab": {
          "base_uri": "https://localhost:8080/"
        },
        "id": "FuDnUPh-Jg0j",
        "outputId": "c850c85f-4d6e-4eee-f391-d8880c0eb7e6"
      },
      "outputs": [
        {
          "data": {
            "text/plain": [
              "array([[1, 1, 2, 2, 3, 3, 4],\n",
              "       [1, 1, 2, 2, 3, 3, 4],\n",
              "       [5, 5, 6, 6, 7, 7, 8],\n",
              "       [5, 0, 0, 0, 1, 1, 2],\n",
              "       [9, 0, 0, 0, 1, 1, 2],\n",
              "       [3, 0, 0, 0, 1, 1, 2],\n",
              "       [3, 3, 4, 4, 5, 5, 6]], dtype=object)"
            ]
          },
          "execution_count": 43,
          "metadata": {},
          "output_type": "execute_result"
        }
      ],
      "source": [
        "graph.nearest_neighbor_min()"
      ]
    },
    {
      "cell_type": "markdown",
      "metadata": {
        "id": "bhE6Gith_bpr"
      },
      "source": [
        "Bilinear"
      ]
    },
    {
      "cell_type": "code",
      "execution_count": 51,
      "metadata": {
        "id": "5IUzPwdirZNe"
      },
      "outputs": [],
      "source": [
        "from collections import deque\n",
        "class bilinear:\n",
        "\n",
        "  def __init__ (self,  matrix):\n",
        "    self.visited = [[False]*100 for i in range(100)]\n",
        "    self.lines = [[] for i in range(100)]\n",
        "    self.matrix = matrix\n",
        "    self.upsample_matrix = self.generate_upsample_matrix()\n",
        "\n",
        "  def bilinear_bfs(self, matrix, y, x, dist = 0):\n",
        "    q=deque()\n",
        "    q.append((y,x,dist))\n",
        "    while len(q)!=0:\n",
        "      self.visited[y][x]=True\n",
        "      y, x, dist= q.popleft()\n",
        "      if(y>=len(matrix) or x >=len(matrix[0])):\n",
        "        continue\n",
        "      if(y<0 or x<0):\n",
        "        continue\n",
        "\n",
        "      if matrix[y][x] != None:\n",
        "        self.lines[dist].append(matrix[y][x])\n",
        "\n",
        "      delta_y = [0, 1, 0, -1]\n",
        "      delta_x = [1, 0, -1, 0]\n",
        "\n",
        "      for i, _ in enumerate(delta_y):\n",
        "        new_y = y+delta_y[i]\n",
        "        new_x = x+delta_x[i]\n",
        "        if self.visited[new_y][new_x] == False:\n",
        "          q.append((new_y,new_x,dist+1))\n",
        "\n",
        "  def nearest_neighbor_bilinear(self):\n",
        "    new_matrix=np.copy(self.upsample_matrix)\n",
        "    for i, item_i in enumerate(new_matrix):\n",
        "      for j, item_j in enumerate(item_i):\n",
        "        if item_j == None:\n",
        "          sum = 0\n",
        "          dv = 1\n",
        "          self.visited = [[False]*100 for i in range(100)]\n",
        "          self.lines = [[] for i in range(100)]\n",
        "          self.bilinear_bfs(self.upsample_matrix, i, j)\n",
        "          for ii in self.lines:\n",
        "            for jj in ii:\n",
        "              sum += jj\n",
        "            if(len(ii)>0):\n",
        "              dv=max(dv,len(ii))\n",
        "              break\n",
        "          new_matrix[i][j]=round(sum/dv)\n",
        "    return new_matrix\n",
        "\n",
        "  def generate_upsample_matrix(self):\n",
        "    new_matrix_height = len(self.matrix)*2-1\n",
        "    new_matrix_width = len(self.matrix[0])*2-1\n",
        "\n",
        "    new_matrix = [[None]*new_matrix_width for i in range(new_matrix_height)]\n",
        "\n",
        "    idx_i_new=0\n",
        "    for i in range(len(self.matrix)):\n",
        "      idx_j_new=0\n",
        "      for j, item_j in enumerate(self.matrix[i]):\n",
        "        new_matrix[idx_i_new][idx_j_new]=(item_j)\n",
        "        idx_j_new+=2\n",
        "      idx_i_new+=2\n",
        "\n",
        "    return new_matrix\n",
        "\n"
      ]
    },
    {
      "cell_type": "code",
      "execution_count": 52,
      "metadata": {
        "id": "4-cxdILDS3Ov"
      },
      "outputs": [],
      "source": [
        "bl = bilinear(matrix)"
      ]
    },
    {
      "cell_type": "code",
      "execution_count": 53,
      "metadata": {
        "colab": {
          "base_uri": "https://localhost:8080/"
        },
        "id": "0o5FWKqFS-EH",
        "outputId": "4d4d8270-8d59-420c-c59a-bca3fb529d97"
      },
      "outputs": [
        {
          "data": {
            "text/plain": [
              "array([[1, 2, 2, 2, 3, 4, 4],\n",
              "       [3, 4, 4, 4, 5, 6, 6],\n",
              "       [5, 6, 6, 6, 7, 8, 8],\n",
              "       [7, 5, 3, 4, 4, 4, 5],\n",
              "       [9, 4, 0, 0, 1, 2, 2],\n",
              "       [6, 4, 2, 2, 3, 4, 4],\n",
              "       [3, 4, 4, 4, 5, 6, 6]], dtype=object)"
            ]
          },
          "execution_count": 53,
          "metadata": {},
          "output_type": "execute_result"
        }
      ],
      "source": [
        "bl.nearest_neighbor_bilinear()"
      ]
    },
    {
      "cell_type": "markdown",
      "metadata": {
        "id": "ufQpZGW6VP9d"
      },
      "source": [
        "Bicubic"
      ]
    },
    {
      "cell_type": "code",
      "execution_count": 54,
      "metadata": {
        "id": "PpMeFBAPTCcR"
      },
      "outputs": [],
      "source": [
        "from collections import deque\n",
        "class Bicubic:\n",
        "\n",
        "  def __init__ (self,  matrix):\n",
        "    self.visited = [[False]*100 for i in range(100)]\n",
        "    self.lines = [[] for i in range(100)]\n",
        "    self.matrix = matrix\n",
        "    self.upsample_matrix = self.generate_upsample_matrix()\n",
        "\n",
        "  def bicubic_bfs(self, matrix, y, x, dist = 0):\n",
        "    q=deque()\n",
        "    q.append((y,x,dist))\n",
        "    while len(q)!=0:\n",
        "      self.visited[y][x]=True\n",
        "      y, x, dist= q.popleft()\n",
        "      if(y>=len(matrix) or x >=len(matrix[0])):\n",
        "        continue\n",
        "      if(y<0 or x<0):\n",
        "        continue\n",
        "\n",
        "      if matrix[y][x] != None:\n",
        "        self.lines[dist].append(matrix[y][x])\n",
        "\n",
        "      delta_y = [0, 1, 0, -1]\n",
        "      delta_x = [1, 0, -1, 0]\n",
        "\n",
        "      for i, _ in enumerate(delta_y):\n",
        "        new_y = y+delta_y[i]\n",
        "        new_x = x+delta_x[i]\n",
        "        if self.visited[new_y][new_x] == False:\n",
        "          q.append((new_y,new_x,dist+1))\n",
        "\n",
        "  def nearest_neighbor_bicubic(self):\n",
        "    new_matrix=np.copy(self.upsample_matrix)\n",
        "    for i, item_i in enumerate(new_matrix):\n",
        "      for j, item_j in enumerate(item_i):\n",
        "        if item_j == None:\n",
        "          sum = 0\n",
        "          dv = 0\n",
        "          self.visited = [[False]*100 for i in range(100)]\n",
        "          self.lines = [[] for i in range(100)]\n",
        "          self.bicubic_bfs(self.upsample_matrix, i, j)\n",
        "          counter=0\n",
        "          for ii in self.lines:\n",
        "            for jj in ii:\n",
        "              sum += jj\n",
        "            if(len(ii)>0):\n",
        "              counter+=1\n",
        "              dv+=len(ii)\n",
        "            if counter==2:\n",
        "              break\n",
        "          new_matrix[i][j]=round(sum/max(1,dv))\n",
        "    return new_matrix\n",
        "\n",
        "  def generate_upsample_matrix(self):\n",
        "    new_matrix_height = len(self.matrix)*2-1\n",
        "    new_matrix_width = len(self.matrix[0])*2-1\n",
        "\n",
        "    new_matrix = [[None]*new_matrix_width for i in range(new_matrix_height)]\n",
        "\n",
        "    idx_i_new=0\n",
        "    for i in range(len(self.matrix)):\n",
        "      idx_j_new=0\n",
        "      for j, item_j in enumerate(self.matrix[i]):\n",
        "        new_matrix[idx_i_new][idx_j_new]=(item_j)\n",
        "        idx_j_new+=2\n",
        "      idx_i_new+=2\n",
        "\n",
        "    return new_matrix\n",
        "\n"
      ]
    },
    {
      "cell_type": "code",
      "execution_count": 55,
      "metadata": {
        "id": "NM1m97FPUi9C"
      },
      "outputs": [],
      "source": [
        "bc = Bicubic(matrix)"
      ]
    },
    {
      "cell_type": "code",
      "execution_count": 57,
      "metadata": {
        "colab": {
          "base_uri": "https://localhost:8080/"
        },
        "id": "D5Y1SKI4UnAG",
        "outputId": "4a0788a0-88d7-47a6-b46a-c7f9e2d89142"
      },
      "outputs": [
        {
          "data": {
            "text/plain": [
              "array([[1, 4, 2, 5, 3, 6, 4],\n",
              "       [4, 4, 4, 4, 5, 4, 5],\n",
              "       [5, 4, 6, 3, 7, 3, 8],\n",
              "       [4, 4, 5, 4, 4, 4, 4],\n",
              "       [9, 4, 0, 5, 1, 5, 2],\n",
              "       [3, 4, 4, 5, 3, 4, 4],\n",
              "       [3, 4, 4, 2, 5, 3, 6]], dtype=object)"
            ]
          },
          "execution_count": 57,
          "metadata": {},
          "output_type": "execute_result"
        }
      ],
      "source": [
        "bc.nearest_neighbor_bicubic()"
      ]
    },
    {
      "cell_type": "code",
      "execution_count": null,
      "metadata": {
        "id": "x9v74lKLUoIg"
      },
      "outputs": [],
      "source": []
    }
  ],
  "metadata": {
    "colab": {
      "provenance": []
    },
    "kernelspec": {
      "display_name": "Python 3",
      "name": "python3"
    },
    "language_info": {
      "name": "python"
    }
  },
  "nbformat": 4,
  "nbformat_minor": 0
}
