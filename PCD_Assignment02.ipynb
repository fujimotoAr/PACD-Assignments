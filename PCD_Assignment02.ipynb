{
  "cells": [
    {
      "cell_type": "markdown",
      "metadata": {
        "id": "JFOmwUtkUwXv"
      },
      "source": [
        "Theofilus Arkhi Susanto\n",
        "(theofilus.arkhi@mail.ugm.ac.id)\n",
        "25/555265/PPA/07030"
      ]
    },
    {
      "cell_type": "code",
      "execution_count": 1,
      "metadata": {},
      "outputs": [
        {
          "name": "stdout",
          "output_type": "stream",
          "text": [
            "Requirement already satisfied: numpy in ./.venv/lib64/python3.13/site-packages (2.2.6)\n",
            "Requirement already satisfied: opencv-python in ./.venv/lib64/python3.13/site-packages (4.12.0.88)\n",
            "Requirement already satisfied: matplotlib in ./.venv/lib64/python3.13/site-packages (3.10.6)\n",
            "Requirement already satisfied: contourpy>=1.0.1 in ./.venv/lib64/python3.13/site-packages (from matplotlib) (1.3.3)\n",
            "Requirement already satisfied: cycler>=0.10 in ./.venv/lib64/python3.13/site-packages (from matplotlib) (0.12.1)\n",
            "Requirement already satisfied: fonttools>=4.22.0 in ./.venv/lib64/python3.13/site-packages (from matplotlib) (4.59.2)\n",
            "Requirement already satisfied: kiwisolver>=1.3.1 in ./.venv/lib64/python3.13/site-packages (from matplotlib) (1.4.9)\n",
            "Requirement already satisfied: packaging>=20.0 in ./.venv/lib64/python3.13/site-packages (from matplotlib) (25.0)\n",
            "Requirement already satisfied: pillow>=8 in ./.venv/lib64/python3.13/site-packages (from matplotlib) (11.3.0)\n",
            "Requirement already satisfied: pyparsing>=2.3.1 in ./.venv/lib64/python3.13/site-packages (from matplotlib) (3.2.3)\n",
            "Requirement already satisfied: python-dateutil>=2.7 in ./.venv/lib64/python3.13/site-packages (from matplotlib) (2.9.0.post0)\n",
            "Requirement already satisfied: six>=1.5 in ./.venv/lib64/python3.13/site-packages (from python-dateutil>=2.7->matplotlib) (1.17.0)\n",
            "Note: you may need to restart the kernel to use updated packages.\n"
          ]
        }
      ],
      "source": [
        "%pip install numpy opencv-python matplotlib"
      ]
    },
    {
      "cell_type": "code",
      "execution_count": 2,
      "metadata": {
        "id": "3b-kxIsNCH0R"
      },
      "outputs": [],
      "source": [
        "import numpy as np, cv2, matplotlib.pyplot as plt"
      ]
    },
    {
      "cell_type": "code",
      "execution_count": 3,
      "metadata": {},
      "outputs": [],
      "source": [
        "# image = cv2.imread(\"image-assignment-2/img_83.jpg\")\n",
        "# image = cv2.cvtColor(image, cv2.COLOR_BGR2RGB)"
      ]
    },
    {
      "cell_type": "code",
      "execution_count": 4,
      "metadata": {},
      "outputs": [],
      "source": [
        "# plt.imshow(image)"
      ]
    },
    {
      "cell_type": "markdown",
      "metadata": {},
      "source": [
        "# Convolution function"
      ]
    },
    {
      "cell_type": "code",
      "execution_count": 5,
      "metadata": {},
      "outputs": [],
      "source": [
        "kernel = [\n",
        "    [0,1,0],\n",
        "    [1,0,1],\n",
        "    [0,1,0]\n",
        "]\n",
        "\n",
        "def multiplication(kernel, submatrix):\n",
        "    kernel_size = len(kernel)\n",
        "    sum = 0\n",
        "    for i in range(kernel_size):\n",
        "        for j in range(kernel_size):\n",
        "            sum += kernel[i][j]*submatrix[i][j]\n",
        "    return sum\n",
        "\n",
        "def convolution(kernel, matrix):\n",
        "    kernel_size = len(kernel)\n",
        "    padded = np.zeros((len(matrix)+2, len(matrix[0])+2))\n",
        "    ret = np.zeros_like(padded)\n",
        "    for i in range(len(matrix)):\n",
        "        for j in range(len(matrix[i])):\n",
        "            padded[i+1][j+1] = matrix[i][j]\n",
        "\n",
        "    for i in range(len(matrix)):\n",
        "        for j in range(len(matrix[i])):\n",
        "            minplus = kernel_size//2\n",
        "            start_y = i+1-minplus\n",
        "            start_x = j+1-minplus\n",
        "            ret[i+1][j+1] = multiplication(\n",
        "                kernel, \n",
        "                [arr[start_x:start_x+kernel_size] for arr in padded[start_y:start_y+kernel_size]]\n",
        "                )\n",
        "    return ret\n",
        "            \n"
      ]
    },
    {
      "cell_type": "code",
      "execution_count": 6,
      "metadata": {},
      "outputs": [],
      "source": [
        "matrix=[\n",
        "    [3,6,2,5,5],\n",
        "    [2,1,0,2,3],\n",
        "    [4,1,3,2,1],\n",
        "    [2,2,1,0,6],\n",
        "    [3,4,2,0,0]\n",
        "]"
      ]
    },
    {
      "cell_type": "code",
      "execution_count": 8,
      "metadata": {},
      "outputs": [
        {
          "data": {
            "text/plain": [
              "array([[ 0.,  0.,  0.,  0.,  0.,  0.,  0.],\n",
              "       [ 0.,  8.,  6., 11.,  9.,  8.,  0.],\n",
              "       [ 0.,  8.,  9.,  8., 10.,  8.,  0.],\n",
              "       [ 0.,  5., 10.,  4.,  6., 11.,  0.],\n",
              "       [ 0.,  9.,  8.,  7.,  9.,  1.,  0.],\n",
              "       [ 0.,  6.,  7.,  5.,  2.,  6.,  0.],\n",
              "       [ 0.,  0.,  0.,  0.,  0.,  0.,  0.]])"
            ]
          },
          "execution_count": 8,
          "metadata": {},
          "output_type": "execute_result"
        }
      ],
      "source": [
        "convolution(kernel, matrix)"
      ]
    },
    {
      "cell_type": "code",
      "execution_count": null,
      "metadata": {},
      "outputs": [],
      "source": []
    },
    {
      "cell_type": "code",
      "execution_count": null,
      "metadata": {},
      "outputs": [],
      "source": []
    }
  ],
  "metadata": {
    "colab": {
      "provenance": []
    },
    "kernelspec": {
      "display_name": ".venv",
      "language": "python",
      "name": "python3"
    },
    "language_info": {
      "codemirror_mode": {
        "name": "ipython",
        "version": 3
      },
      "file_extension": ".py",
      "mimetype": "text/x-python",
      "name": "python",
      "nbconvert_exporter": "python",
      "pygments_lexer": "ipython3",
      "version": "3.13.7"
    }
  },
  "nbformat": 4,
  "nbformat_minor": 0
}
